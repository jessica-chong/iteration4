{
 "cells": [
  {
   "cell_type": "code",
   "execution_count": 141,
   "id": "699f7b9e",
   "metadata": {},
   "outputs": [],
   "source": [
    "import findspark\n",
    "findspark.init('/home/ubuntu/spark-3.2.1-bin-hadoop2.7')\n",
    "import pyspark\n",
    "from pyspark.sql import SparkSession\n",
    "from pyspark.sql.functions import regexp_replace, col, length, dayofweek, to_timestamp, concat, lit, udf\n",
    "from pyspark.sql.types import DoubleType, StringType\n",
    "spark = SparkSession.builder.appName('iteration4').getOrCreate()"
   ]
  },
  {
   "cell_type": "code",
   "execution_count": 142,
   "id": "f5e1ee4d",
   "metadata": {},
   "outputs": [],
   "source": [
    "from matplotlib import pyplot as plt\n",
    "import seaborn as sns"
   ]
  },
  {
   "cell_type": "markdown",
   "id": "8b936676",
   "metadata": {},
   "source": [
    "## 2 Data Understanding"
   ]
  },
  {
   "cell_type": "markdown",
   "id": "3eed9639",
   "metadata": {},
   "source": [
    "### 2.1 Data Collection"
   ]
  },
  {
   "cell_type": "code",
   "execution_count": 143,
   "id": "f6e70d01",
   "metadata": {},
   "outputs": [],
   "source": [
    "# read data\n",
    "customer_details = spark.read.csv('customer_details.csv', header=True, inferSchema=True)\n",
    "product_details = spark.read.csv('product_details.csv', header=True, inferSchema=True)\n",
    "sales_data = spark.read.csv('E-commerce sales data 2024.csv', header=True, inferSchema=True)"
   ]
  },
  {
   "cell_type": "code",
   "execution_count": 144,
   "id": "44ee4c62",
   "metadata": {},
   "outputs": [
    {
     "data": {
      "text/html": [
       "<div>\n",
       "<style scoped>\n",
       "    .dataframe tbody tr th:only-of-type {\n",
       "        vertical-align: middle;\n",
       "    }\n",
       "\n",
       "    .dataframe tbody tr th {\n",
       "        vertical-align: top;\n",
       "    }\n",
       "\n",
       "    .dataframe thead th {\n",
       "        text-align: right;\n",
       "    }\n",
       "</style>\n",
       "<table border=\"1\" class=\"dataframe\">\n",
       "  <thead>\n",
       "    <tr style=\"text-align: right;\">\n",
       "      <th></th>\n",
       "      <th>Customer ID</th>\n",
       "      <th>Age</th>\n",
       "      <th>Gender</th>\n",
       "      <th>Item Purchased</th>\n",
       "      <th>Category</th>\n",
       "      <th>Purchase Amount (USD)</th>\n",
       "      <th>Location</th>\n",
       "      <th>Size</th>\n",
       "      <th>Color</th>\n",
       "      <th>Season</th>\n",
       "      <th>Review Rating</th>\n",
       "      <th>Subscription Status</th>\n",
       "      <th>Shipping Type</th>\n",
       "      <th>Discount Applied</th>\n",
       "      <th>Promo Code Used</th>\n",
       "      <th>Previous Purchases</th>\n",
       "      <th>Payment Method</th>\n",
       "      <th>Frequency of Purchases</th>\n",
       "    </tr>\n",
       "  </thead>\n",
       "  <tbody>\n",
       "    <tr>\n",
       "      <th>0</th>\n",
       "      <td>1</td>\n",
       "      <td>55</td>\n",
       "      <td>Male</td>\n",
       "      <td>Blouse</td>\n",
       "      <td>Clothing</td>\n",
       "      <td>53</td>\n",
       "      <td>Kentucky</td>\n",
       "      <td>L</td>\n",
       "      <td>Gray</td>\n",
       "      <td>Winter</td>\n",
       "      <td>3.1</td>\n",
       "      <td>Yes</td>\n",
       "      <td>Express</td>\n",
       "      <td>Yes</td>\n",
       "      <td>Yes</td>\n",
       "      <td>14</td>\n",
       "      <td>Venmo</td>\n",
       "      <td>Fortnightly</td>\n",
       "    </tr>\n",
       "    <tr>\n",
       "      <th>1</th>\n",
       "      <td>2</td>\n",
       "      <td>19</td>\n",
       "      <td>Male</td>\n",
       "      <td>Sweater</td>\n",
       "      <td>Clothing</td>\n",
       "      <td>64</td>\n",
       "      <td>Maine</td>\n",
       "      <td>L</td>\n",
       "      <td>Maroon</td>\n",
       "      <td>Winter</td>\n",
       "      <td>3.1</td>\n",
       "      <td>Yes</td>\n",
       "      <td>Express</td>\n",
       "      <td>Yes</td>\n",
       "      <td>Yes</td>\n",
       "      <td>2</td>\n",
       "      <td>Cash</td>\n",
       "      <td>Fortnightly</td>\n",
       "    </tr>\n",
       "    <tr>\n",
       "      <th>2</th>\n",
       "      <td>3</td>\n",
       "      <td>50</td>\n",
       "      <td>Male</td>\n",
       "      <td>Jeans</td>\n",
       "      <td>Clothing</td>\n",
       "      <td>73</td>\n",
       "      <td>Massachusetts</td>\n",
       "      <td>S</td>\n",
       "      <td>Maroon</td>\n",
       "      <td>Spring</td>\n",
       "      <td>3.1</td>\n",
       "      <td>Yes</td>\n",
       "      <td>Free Shipping</td>\n",
       "      <td>Yes</td>\n",
       "      <td>Yes</td>\n",
       "      <td>23</td>\n",
       "      <td>Credit Card</td>\n",
       "      <td>Weekly</td>\n",
       "    </tr>\n",
       "    <tr>\n",
       "      <th>3</th>\n",
       "      <td>4</td>\n",
       "      <td>21</td>\n",
       "      <td>Male</td>\n",
       "      <td>Sandals</td>\n",
       "      <td>Footwear</td>\n",
       "      <td>90</td>\n",
       "      <td>Rhode Island</td>\n",
       "      <td>M</td>\n",
       "      <td>Maroon</td>\n",
       "      <td>Spring</td>\n",
       "      <td>3.5</td>\n",
       "      <td>Yes</td>\n",
       "      <td>Next Day Air</td>\n",
       "      <td>Yes</td>\n",
       "      <td>Yes</td>\n",
       "      <td>49</td>\n",
       "      <td>PayPal</td>\n",
       "      <td>Weekly</td>\n",
       "    </tr>\n",
       "    <tr>\n",
       "      <th>4</th>\n",
       "      <td>5</td>\n",
       "      <td>45</td>\n",
       "      <td>Male</td>\n",
       "      <td>Blouse</td>\n",
       "      <td>Clothing</td>\n",
       "      <td>49</td>\n",
       "      <td>Oregon</td>\n",
       "      <td>M</td>\n",
       "      <td>Turquoise</td>\n",
       "      <td>Spring</td>\n",
       "      <td>2.7</td>\n",
       "      <td>Yes</td>\n",
       "      <td>Free Shipping</td>\n",
       "      <td>Yes</td>\n",
       "      <td>Yes</td>\n",
       "      <td>31</td>\n",
       "      <td>PayPal</td>\n",
       "      <td>Annually</td>\n",
       "    </tr>\n",
       "  </tbody>\n",
       "</table>\n",
       "</div>"
      ],
      "text/plain": [
       "   Customer ID  Age Gender Item Purchased  Category  Purchase Amount (USD)  \\\n",
       "0            1   55   Male         Blouse  Clothing                     53   \n",
       "1            2   19   Male        Sweater  Clothing                     64   \n",
       "2            3   50   Male          Jeans  Clothing                     73   \n",
       "3            4   21   Male        Sandals  Footwear                     90   \n",
       "4            5   45   Male         Blouse  Clothing                     49   \n",
       "\n",
       "        Location Size      Color  Season  Review Rating Subscription Status  \\\n",
       "0       Kentucky    L       Gray  Winter            3.1                 Yes   \n",
       "1          Maine    L     Maroon  Winter            3.1                 Yes   \n",
       "2  Massachusetts    S     Maroon  Spring            3.1                 Yes   \n",
       "3   Rhode Island    M     Maroon  Spring            3.5                 Yes   \n",
       "4         Oregon    M  Turquoise  Spring            2.7                 Yes   \n",
       "\n",
       "   Shipping Type Discount Applied Promo Code Used  Previous Purchases  \\\n",
       "0        Express              Yes             Yes                  14   \n",
       "1        Express              Yes             Yes                   2   \n",
       "2  Free Shipping              Yes             Yes                  23   \n",
       "3   Next Day Air              Yes             Yes                  49   \n",
       "4  Free Shipping              Yes             Yes                  31   \n",
       "\n",
       "  Payment Method Frequency of Purchases  \n",
       "0          Venmo            Fortnightly  \n",
       "1           Cash            Fortnightly  \n",
       "2    Credit Card                 Weekly  \n",
       "3         PayPal                 Weekly  \n",
       "4         PayPal               Annually  "
      ]
     },
     "execution_count": 144,
     "metadata": {},
     "output_type": "execute_result"
    }
   ],
   "source": [
    "# first 5 rows of data\n",
    "customer_details.toPandas().head()"
   ]
  },
  {
   "cell_type": "code",
   "execution_count": 145,
   "id": "0c1e85be",
   "metadata": {},
   "outputs": [
    {
     "data": {
      "text/html": [
       "<div>\n",
       "<style scoped>\n",
       "    .dataframe tbody tr th:only-of-type {\n",
       "        vertical-align: middle;\n",
       "    }\n",
       "\n",
       "    .dataframe tbody tr th {\n",
       "        vertical-align: top;\n",
       "    }\n",
       "\n",
       "    .dataframe thead th {\n",
       "        text-align: right;\n",
       "    }\n",
       "</style>\n",
       "<table border=\"1\" class=\"dataframe\">\n",
       "  <thead>\n",
       "    <tr style=\"text-align: right;\">\n",
       "      <th></th>\n",
       "      <th>Uniqe Id</th>\n",
       "      <th>Product Name</th>\n",
       "      <th>Brand Name</th>\n",
       "      <th>Asin</th>\n",
       "      <th>Category</th>\n",
       "      <th>Upc Ean Code</th>\n",
       "      <th>List Price</th>\n",
       "      <th>Selling Price</th>\n",
       "      <th>Quantity</th>\n",
       "      <th>Model Number</th>\n",
       "      <th>...</th>\n",
       "      <th>Product Url</th>\n",
       "      <th>Stock</th>\n",
       "      <th>Product Details</th>\n",
       "      <th>Dimensions</th>\n",
       "      <th>Color</th>\n",
       "      <th>Ingredients</th>\n",
       "      <th>Direction To Use</th>\n",
       "      <th>Is Amazon Seller</th>\n",
       "      <th>Size Quantity Variant</th>\n",
       "      <th>Product Description</th>\n",
       "    </tr>\n",
       "  </thead>\n",
       "  <tbody>\n",
       "    <tr>\n",
       "      <th>0</th>\n",
       "      <td>4c69b61db1fc16e7013b43fc926e502d</td>\n",
       "      <td>\"DB Longboards CoreFlex Crossbow 41\"\" Bamboo F...</td>\n",
       "      <td>None</td>\n",
       "      <td>None</td>\n",
       "      <td>Sports &amp; Outdoors | Outdoor Recreation | Skate...</td>\n",
       "      <td>None</td>\n",
       "      <td>None</td>\n",
       "      <td>$237.68</td>\n",
       "      <td>None</td>\n",
       "      <td>None</td>\n",
       "      <td>...</td>\n",
       "      <td>https://www.amazon.com/DB-Longboards-CoreFlex-...</td>\n",
       "      <td>None</td>\n",
       "      <td>None</td>\n",
       "      <td>None</td>\n",
       "      <td>None</td>\n",
       "      <td>None</td>\n",
       "      <td>None</td>\n",
       "      <td>Y</td>\n",
       "      <td>None</td>\n",
       "      <td>None</td>\n",
       "    </tr>\n",
       "    <tr>\n",
       "      <th>1</th>\n",
       "      <td>66d49bbed043f5be260fa9f7fbff5957</td>\n",
       "      <td>Electronic Snap Circuits Mini Kits Classpack, ...</td>\n",
       "      <td>None</td>\n",
       "      <td>None</td>\n",
       "      <td>Toys &amp; Games | Learning &amp; Education | Science ...</td>\n",
       "      <td>None</td>\n",
       "      <td>None</td>\n",
       "      <td>$99.95</td>\n",
       "      <td>None</td>\n",
       "      <td>55324</td>\n",
       "      <td>...</td>\n",
       "      <td>https://www.amazon.com/Electronic-Circuits-Cla...</td>\n",
       "      <td>None</td>\n",
       "      <td>None</td>\n",
       "      <td>None</td>\n",
       "      <td>None</td>\n",
       "      <td>None</td>\n",
       "      <td>None</td>\n",
       "      <td>Y</td>\n",
       "      <td>None</td>\n",
       "      <td>None</td>\n",
       "    </tr>\n",
       "    <tr>\n",
       "      <th>2</th>\n",
       "      <td>2c55cae269aebf53838484b0d7dd931a</td>\n",
       "      <td>3Doodler Create Flexy 3D Printing Filament Ref...</td>\n",
       "      <td>None</td>\n",
       "      <td>None</td>\n",
       "      <td>Toys &amp; Games | Arts &amp; Crafts | Craft Kits</td>\n",
       "      <td>None</td>\n",
       "      <td>None</td>\n",
       "      <td>$34.99</td>\n",
       "      <td>None</td>\n",
       "      <td>None</td>\n",
       "      <td>...</td>\n",
       "      <td>https://www.amazon.com/3Doodler-Plastic-Innova...</td>\n",
       "      <td>None</td>\n",
       "      <td>None</td>\n",
       "      <td>None</td>\n",
       "      <td>None</td>\n",
       "      <td>None</td>\n",
       "      <td>None</td>\n",
       "      <td>Y</td>\n",
       "      <td>None</td>\n",
       "      <td>None</td>\n",
       "    </tr>\n",
       "    <tr>\n",
       "      <th>3</th>\n",
       "      <td>18018b6bc416dab347b1b7db79994afa</td>\n",
       "      <td>Guillow Airplane Design Studio with Travel Cas...</td>\n",
       "      <td>None</td>\n",
       "      <td>None</td>\n",
       "      <td>Toys &amp; Games | Hobbies | Models &amp; Model Kits |...</td>\n",
       "      <td>None</td>\n",
       "      <td>None</td>\n",
       "      <td>$28.91</td>\n",
       "      <td>None</td>\n",
       "      <td>142</td>\n",
       "      <td>...</td>\n",
       "      <td>https://www.amazon.com/Guillow-Airplane-Design...</td>\n",
       "      <td>None</td>\n",
       "      <td>None</td>\n",
       "      <td>None</td>\n",
       "      <td>None</td>\n",
       "      <td>None</td>\n",
       "      <td>None</td>\n",
       "      <td>Y</td>\n",
       "      <td>None</td>\n",
       "      <td>None</td>\n",
       "    </tr>\n",
       "    <tr>\n",
       "      <th>4</th>\n",
       "      <td>e04b990e95bf73bbe6a3fa09785d7cd0</td>\n",
       "      <td>Woodstock- Collage 500 pc Puzzle</td>\n",
       "      <td>None</td>\n",
       "      <td>None</td>\n",
       "      <td>Toys &amp; Games | Puzzles | Jigsaw Puzzles</td>\n",
       "      <td>None</td>\n",
       "      <td>None</td>\n",
       "      <td>$17.49</td>\n",
       "      <td>None</td>\n",
       "      <td>62151</td>\n",
       "      <td>...</td>\n",
       "      <td>https://www.amazon.com/Woodstock-Collage-500-p...</td>\n",
       "      <td>None</td>\n",
       "      <td>None</td>\n",
       "      <td>None</td>\n",
       "      <td>None</td>\n",
       "      <td>None</td>\n",
       "      <td>None</td>\n",
       "      <td>Y</td>\n",
       "      <td>None</td>\n",
       "      <td>None</td>\n",
       "    </tr>\n",
       "  </tbody>\n",
       "</table>\n",
       "<p>5 rows × 28 columns</p>\n",
       "</div>"
      ],
      "text/plain": [
       "                           Uniqe Id  \\\n",
       "0  4c69b61db1fc16e7013b43fc926e502d   \n",
       "1  66d49bbed043f5be260fa9f7fbff5957   \n",
       "2  2c55cae269aebf53838484b0d7dd931a   \n",
       "3  18018b6bc416dab347b1b7db79994afa   \n",
       "4  e04b990e95bf73bbe6a3fa09785d7cd0   \n",
       "\n",
       "                                        Product Name Brand Name  Asin  \\\n",
       "0  \"DB Longboards CoreFlex Crossbow 41\"\" Bamboo F...       None  None   \n",
       "1  Electronic Snap Circuits Mini Kits Classpack, ...       None  None   \n",
       "2  3Doodler Create Flexy 3D Printing Filament Ref...       None  None   \n",
       "3  Guillow Airplane Design Studio with Travel Cas...       None  None   \n",
       "4                   Woodstock- Collage 500 pc Puzzle       None  None   \n",
       "\n",
       "                                            Category Upc Ean Code List Price  \\\n",
       "0  Sports & Outdoors | Outdoor Recreation | Skate...         None       None   \n",
       "1  Toys & Games | Learning & Education | Science ...         None       None   \n",
       "2          Toys & Games | Arts & Crafts | Craft Kits         None       None   \n",
       "3  Toys & Games | Hobbies | Models & Model Kits |...         None       None   \n",
       "4            Toys & Games | Puzzles | Jigsaw Puzzles         None       None   \n",
       "\n",
       "  Selling Price Quantity Model Number  ...  \\\n",
       "0       $237.68     None         None  ...   \n",
       "1        $99.95     None        55324  ...   \n",
       "2        $34.99     None         None  ...   \n",
       "3        $28.91     None          142  ...   \n",
       "4        $17.49     None        62151  ...   \n",
       "\n",
       "                                         Product Url Stock Product Details  \\\n",
       "0  https://www.amazon.com/DB-Longboards-CoreFlex-...  None            None   \n",
       "1  https://www.amazon.com/Electronic-Circuits-Cla...  None            None   \n",
       "2  https://www.amazon.com/3Doodler-Plastic-Innova...  None            None   \n",
       "3  https://www.amazon.com/Guillow-Airplane-Design...  None            None   \n",
       "4  https://www.amazon.com/Woodstock-Collage-500-p...  None            None   \n",
       "\n",
       "  Dimensions Color Ingredients Direction To Use Is Amazon Seller  \\\n",
       "0       None  None        None             None                Y   \n",
       "1       None  None        None             None                Y   \n",
       "2       None  None        None             None                Y   \n",
       "3       None  None        None             None                Y   \n",
       "4       None  None        None             None                Y   \n",
       "\n",
       "  Size Quantity Variant Product Description  \n",
       "0                  None                None  \n",
       "1                  None                None  \n",
       "2                  None                None  \n",
       "3                  None                None  \n",
       "4                  None                None  \n",
       "\n",
       "[5 rows x 28 columns]"
      ]
     },
     "execution_count": 145,
     "metadata": {},
     "output_type": "execute_result"
    }
   ],
   "source": [
    "product_details.toPandas().head()"
   ]
  },
  {
   "cell_type": "code",
   "execution_count": 146,
   "id": "d2b2c67d",
   "metadata": {},
   "outputs": [
    {
     "name": "stderr",
     "output_type": "stream",
     "text": [
      "24/05/23 11:31:20 WARN CSVHeaderChecker: CSV header does not conform to the schema.\n",
      " Header: user id, product id, Interaction type, Time stamp, \n",
      " Schema: user id, product id, Interaction type, Time stamp, _c4\n",
      "Expected: _c4 but found: \n",
      "CSV file: file:///home/ubuntu/iteration4/E-commerce%20sales%20data%202024.csv\n"
     ]
    },
    {
     "data": {
      "text/html": [
       "<div>\n",
       "<style scoped>\n",
       "    .dataframe tbody tr th:only-of-type {\n",
       "        vertical-align: middle;\n",
       "    }\n",
       "\n",
       "    .dataframe tbody tr th {\n",
       "        vertical-align: top;\n",
       "    }\n",
       "\n",
       "    .dataframe thead th {\n",
       "        text-align: right;\n",
       "    }\n",
       "</style>\n",
       "<table border=\"1\" class=\"dataframe\">\n",
       "  <thead>\n",
       "    <tr style=\"text-align: right;\">\n",
       "      <th></th>\n",
       "      <th>user id</th>\n",
       "      <th>product id</th>\n",
       "      <th>Interaction type</th>\n",
       "      <th>Time stamp</th>\n",
       "      <th>_c4</th>\n",
       "    </tr>\n",
       "  </thead>\n",
       "  <tbody>\n",
       "    <tr>\n",
       "      <th>0</th>\n",
       "      <td>1.0</td>\n",
       "      <td>4c69b61db1fc16e7013b43fc926e502d</td>\n",
       "      <td>purchase</td>\n",
       "      <td>10/10/2023 8:00</td>\n",
       "      <td>None</td>\n",
       "    </tr>\n",
       "    <tr>\n",
       "      <th>1</th>\n",
       "      <td>2.0</td>\n",
       "      <td>66d49bbed043f5be260fa9f7fbff5957</td>\n",
       "      <td>view</td>\n",
       "      <td>11/10/2023 8:00</td>\n",
       "      <td>None</td>\n",
       "    </tr>\n",
       "    <tr>\n",
       "      <th>2</th>\n",
       "      <td>3.0</td>\n",
       "      <td>2c55cae269aebf53838484b0d7dd931a</td>\n",
       "      <td>like</td>\n",
       "      <td>12/10/2023 8:00</td>\n",
       "      <td>None</td>\n",
       "    </tr>\n",
       "    <tr>\n",
       "      <th>3</th>\n",
       "      <td>4.0</td>\n",
       "      <td>18018b6bc416dab347b1b7db79994afa</td>\n",
       "      <td>view</td>\n",
       "      <td>13/10/2023 8:00</td>\n",
       "      <td>None</td>\n",
       "    </tr>\n",
       "    <tr>\n",
       "      <th>4</th>\n",
       "      <td>5.0</td>\n",
       "      <td>e04b990e95bf73bbe6a3fa09785d7cd0</td>\n",
       "      <td>like</td>\n",
       "      <td>14/10/2023 8:00</td>\n",
       "      <td>None</td>\n",
       "    </tr>\n",
       "  </tbody>\n",
       "</table>\n",
       "</div>"
      ],
      "text/plain": [
       "   user id                        product id Interaction type  \\\n",
       "0      1.0  4c69b61db1fc16e7013b43fc926e502d         purchase   \n",
       "1      2.0  66d49bbed043f5be260fa9f7fbff5957             view   \n",
       "2      3.0  2c55cae269aebf53838484b0d7dd931a             like   \n",
       "3      4.0  18018b6bc416dab347b1b7db79994afa             view   \n",
       "4      5.0  e04b990e95bf73bbe6a3fa09785d7cd0             like   \n",
       "\n",
       "        Time stamp   _c4  \n",
       "0  10/10/2023 8:00  None  \n",
       "1  11/10/2023 8:00  None  \n",
       "2  12/10/2023 8:00  None  \n",
       "3  13/10/2023 8:00  None  \n",
       "4  14/10/2023 8:00  None  "
      ]
     },
     "execution_count": 146,
     "metadata": {},
     "output_type": "execute_result"
    }
   ],
   "source": [
    "sales_data.toPandas().head()"
   ]
  },
  {
   "cell_type": "markdown",
   "id": "f2cade40",
   "metadata": {},
   "source": [
    "### 2.2 Data Description"
   ]
  },
  {
   "cell_type": "code",
   "execution_count": 147,
   "id": "3b572f6a",
   "metadata": {},
   "outputs": [
    {
     "name": "stdout",
     "output_type": "stream",
     "text": [
      "root\n",
      " |-- Customer ID: integer (nullable = true)\n",
      " |-- Age: integer (nullable = true)\n",
      " |-- Gender: string (nullable = true)\n",
      " |-- Item Purchased: string (nullable = true)\n",
      " |-- Category: string (nullable = true)\n",
      " |-- Purchase Amount (USD): integer (nullable = true)\n",
      " |-- Location: string (nullable = true)\n",
      " |-- Size: string (nullable = true)\n",
      " |-- Color: string (nullable = true)\n",
      " |-- Season: string (nullable = true)\n",
      " |-- Review Rating: double (nullable = true)\n",
      " |-- Subscription Status: string (nullable = true)\n",
      " |-- Shipping Type: string (nullable = true)\n",
      " |-- Discount Applied: string (nullable = true)\n",
      " |-- Promo Code Used: string (nullable = true)\n",
      " |-- Previous Purchases: integer (nullable = true)\n",
      " |-- Payment Method: string (nullable = true)\n",
      " |-- Frequency of Purchases: string (nullable = true)\n",
      "\n"
     ]
    },
    {
     "data": {
      "text/plain": [
       "{'Customer ID': 0,\n",
       " 'Age': 0,\n",
       " 'Gender': 0,\n",
       " 'Item Purchased': 0,\n",
       " 'Category': 0,\n",
       " 'Purchase Amount (USD)': 0,\n",
       " 'Location': 0,\n",
       " 'Size': 0,\n",
       " 'Color': 0,\n",
       " 'Season': 0,\n",
       " 'Review Rating': 0,\n",
       " 'Subscription Status': 0,\n",
       " 'Shipping Type': 0,\n",
       " 'Discount Applied': 0,\n",
       " 'Promo Code Used': 0,\n",
       " 'Previous Purchases': 0,\n",
       " 'Payment Method': 0,\n",
       " 'Frequency of Purchases': 0}"
      ]
     },
     "execution_count": 147,
     "metadata": {},
     "output_type": "execute_result"
    }
   ],
   "source": [
    "# column names, data type and null values\n",
    "customer_details.printSchema()\n",
    "customer_null = {col:customer_details.filter(customer_details[col].isNull()).count() for col in customer_details.columns}\n",
    "customer_null"
   ]
  },
  {
   "cell_type": "code",
   "execution_count": 148,
   "id": "60901a5d",
   "metadata": {},
   "outputs": [
    {
     "name": "stdout",
     "output_type": "stream",
     "text": [
      "root\n",
      " |-- Uniqe Id: string (nullable = true)\n",
      " |-- Product Name: string (nullable = true)\n",
      " |-- Brand Name: string (nullable = true)\n",
      " |-- Asin: string (nullable = true)\n",
      " |-- Category: string (nullable = true)\n",
      " |-- Upc Ean Code: string (nullable = true)\n",
      " |-- List Price: string (nullable = true)\n",
      " |-- Selling Price: string (nullable = true)\n",
      " |-- Quantity: string (nullable = true)\n",
      " |-- Model Number: string (nullable = true)\n",
      " |-- About Product: string (nullable = true)\n",
      " |-- Product Specification: string (nullable = true)\n",
      " |-- Technical Details: string (nullable = true)\n",
      " |-- Shipping Weight: string (nullable = true)\n",
      " |-- Product Dimensions: string (nullable = true)\n",
      " |-- Image: string (nullable = true)\n",
      " |-- Variants: string (nullable = true)\n",
      " |-- Sku: string (nullable = true)\n",
      " |-- Product Url: string (nullable = true)\n",
      " |-- Stock: string (nullable = true)\n",
      " |-- Product Details: string (nullable = true)\n",
      " |-- Dimensions: string (nullable = true)\n",
      " |-- Color: string (nullable = true)\n",
      " |-- Ingredients: string (nullable = true)\n",
      " |-- Direction To Use: string (nullable = true)\n",
      " |-- Is Amazon Seller: string (nullable = true)\n",
      " |-- Size Quantity Variant: string (nullable = true)\n",
      " |-- Product Description: string (nullable = true)\n",
      "\n"
     ]
    },
    {
     "data": {
      "text/plain": [
       "{'Uniqe Id': 0,\n",
       " 'Product Name': 0,\n",
       " 'Brand Name': 9567,\n",
       " 'Asin': 9893,\n",
       " 'Category': 1213,\n",
       " 'Upc Ean Code': 9646,\n",
       " 'List Price': 9921,\n",
       " 'Selling Price': 518,\n",
       " 'Quantity': 9669,\n",
       " 'Model Number': 2066,\n",
       " 'About Product': 372,\n",
       " 'Product Specification': 1493,\n",
       " 'Technical Details': 830,\n",
       " 'Shipping Weight': 1091,\n",
       " 'Product Dimensions': 7846,\n",
       " 'Image': 542,\n",
       " 'Variants': 6583,\n",
       " 'Sku': 8742,\n",
       " 'Product Url': 923,\n",
       " 'Stock': 8731,\n",
       " 'Product Details': 9081,\n",
       " 'Dimensions': 9310,\n",
       " 'Color': 9465,\n",
       " 'Ingredients': 9559,\n",
       " 'Direction To Use': 9643,\n",
       " 'Is Amazon Seller': 1583,\n",
       " 'Size Quantity Variant': 9233,\n",
       " 'Product Description': 9456}"
      ]
     },
     "execution_count": 148,
     "metadata": {},
     "output_type": "execute_result"
    }
   ],
   "source": [
    "product_details.printSchema()\n",
    "product_null = {col:product_details.filter(product_details[col].isNull()).count() for col in product_details.columns}\n",
    "product_null"
   ]
  },
  {
   "cell_type": "code",
   "execution_count": 149,
   "id": "bb1e63c7",
   "metadata": {},
   "outputs": [
    {
     "name": "stdout",
     "output_type": "stream",
     "text": [
      "root\n",
      " |-- user id: integer (nullable = true)\n",
      " |-- product id: string (nullable = true)\n",
      " |-- Interaction type: string (nullable = true)\n",
      " |-- Time stamp: string (nullable = true)\n",
      " |-- _c4: string (nullable = true)\n",
      "\n"
     ]
    },
    {
     "name": "stderr",
     "output_type": "stream",
     "text": [
      "24/05/23 11:31:31 WARN CSVHeaderChecker: CSV header does not conform to the schema.\n",
      " Header: \n",
      " Schema: _c4\n",
      "Expected: _c4 but found: \n",
      "CSV file: file:///home/ubuntu/iteration4/E-commerce%20sales%20data%202024.csv\n"
     ]
    },
    {
     "data": {
      "text/plain": [
       "{'user id': 295,\n",
       " 'product id': 295,\n",
       " 'Interaction type': 423,\n",
       " 'Time stamp': 295,\n",
       " '_c4': 3294}"
      ]
     },
     "execution_count": 149,
     "metadata": {},
     "output_type": "execute_result"
    }
   ],
   "source": [
    "sales_data.printSchema()\n",
    "sales_null = {col:sales_data.filter(sales_data[col].isNull()).count() for col in sales_data.columns}\n",
    "sales_null"
   ]
  },
  {
   "cell_type": "markdown",
   "id": "494d04f9",
   "metadata": {},
   "source": [
    "### 2.3 Data Exploration"
   ]
  },
  {
   "cell_type": "code",
   "execution_count": 150,
   "id": "a5282325",
   "metadata": {},
   "outputs": [
    {
     "data": {
      "image/png": "[encoded data removed]",
      "text/plain": [
       "<Figure size 432x288 with 1 Axes>"
      ]
     },
     "metadata": {
      "needs_background": "light"
     },
     "output_type": "display_data"
    },
    {
     "data": {
      "image/png": "[encoded data removed]",
      "text/plain": [
       "<Figure size 432x288 with 1 Axes>"
      ]
     },
     "metadata": {
      "needs_background": "light"
     },
     "output_type": "display_data"
    },
    {
     "data": {
      "image/png": "[encoded data removed]",
      "text/plain": [
       "<Figure size 432x288 with 1 Axes>"
      ]
     },
     "metadata": {
      "needs_background": "light"
     },
     "output_type": "display_data"
    }
   ],
   "source": [
    "# data visualisation\n",
    "pd_customer_details = customer_details.toPandas()\n",
    "\n",
    "# gender count\n",
    "sns.countplot(data=pd_customer_details, x='Gender') \n",
    "plt.title(\"Gender Distribution Plot\") \n",
    "  \n",
    "plt.show()\n",
    "\n",
    "# gender with subscription status\n",
    "sns.countplot(data=pd_customer_details, x='Gender', hue='Subscription Status') \n",
    "  \n",
    "plt.show()\n",
    "\n",
    "# gender with category of purchased items\n",
    "sns.countplot(data=pd_customer_details, x='Category', hue='Gender') \n",
    "  \n",
    "plt.show()"
   ]
  },
  {
   "cell_type": "code",
   "execution_count": 151,
   "id": "d55bdf05",
   "metadata": {},
   "outputs": [
    {
     "data": {
      "text/plain": [
       "Category     Gender\n",
       "Accessories  Female     392\n",
       "             Male       848\n",
       "Clothing     Female     556\n",
       "             Male      1181\n",
       "Footwear     Female     199\n",
       "             Male       400\n",
       "Outerwear    Female     101\n",
       "             Male       223\n",
       "Name: Customer ID, dtype: int64"
      ]
     },
     "execution_count": 151,
     "metadata": {},
     "output_type": "execute_result"
    }
   ],
   "source": [
    "pd_customer_details.groupby(['Category', 'Gender']).count()['Customer ID']"
   ]
  },
  {
   "cell_type": "code",
   "execution_count": 152,
   "id": "7e41b77f",
   "metadata": {},
   "outputs": [
    {
     "name": "stdout",
     "output_type": "stream",
     "text": [
      "52\n"
     ]
    },
    {
     "data": {
      "image/png": "[encoded data removed]",
      "text/plain": [
       "<Figure size 432x288 with 1 Axes>"
      ]
     },
     "metadata": {
      "needs_background": "light"
     },
     "output_type": "display_data"
    }
   ],
   "source": [
    "# number of bins\n",
    "print(pd_customer_details['Age'].max() - pd_customer_details['Age'].min())\n",
    "\n",
    "# age distribution\n",
    "plt.hist(data=pd_customer_details, x='Age', edgecolor=\"black\", bins=52) \n",
    "  \n",
    "plt.show()"
   ]
  },
  {
   "cell_type": "code",
   "execution_count": 153,
   "id": "d2c1de7e",
   "metadata": {},
   "outputs": [
    {
     "name": "stdout",
     "output_type": "stream",
     "text": [
      "Discount Applied  Subscription Status\n",
      "No                No                     2223\n",
      "Yes               No                      624\n",
      "                  Yes                    1053\n",
      "Name: Customer ID, dtype: int64\n"
     ]
    },
    {
     "data": {
      "image/png": "[encoded data removed]",
      "text/plain": [
       "<Figure size 432x288 with 1 Axes>"
      ]
     },
     "metadata": {
      "needs_background": "light"
     },
     "output_type": "display_data"
    }
   ],
   "source": [
    "print(pd_customer_details.groupby(['Discount Applied', 'Subscription Status']).count()['Customer ID'])\n",
    "\n",
    "# discount applied with subscription status\n",
    "sns.countplot(data=pd_customer_details, x='Discount Applied', hue='Subscription Status') \n",
    "  \n",
    "plt.show()"
   ]
  },
  {
   "cell_type": "code",
   "execution_count": 154,
   "id": "6abc8edd",
   "metadata": {},
   "outputs": [
    {
     "name": "stderr",
     "output_type": "stream",
     "text": [
      "24/05/23 11:31:33 WARN CSVHeaderChecker: CSV header does not conform to the schema.\n",
      " Header: user id, product id, Interaction type, Time stamp, \n",
      " Schema: user id, product id, Interaction type, Time stamp, _c4\n",
      "Expected: _c4 but found: \n",
      "CSV file: file:///home/ubuntu/iteration4/E-commerce%20sales%20data%202024.csv\n"
     ]
    },
    {
     "data": {
      "image/png": "[encoded data removed]",
      "text/plain": [
       "<Figure size 432x288 with 1 Axes>"
      ]
     },
     "metadata": {
      "needs_background": "light"
     },
     "output_type": "display_data"
    }
   ],
   "source": [
    "pd_sales_data = sales_data.toPandas()\n",
    "\n",
    "# interaction type of product\n",
    "sns.countplot(data=pd_sales_data, x='Interaction type') \n",
    "  \n",
    "plt.show()"
   ]
  },
  {
   "cell_type": "markdown",
   "id": "737f0511",
   "metadata": {},
   "source": [
    "### 2.4 Verify Data Quality"
   ]
  },
  {
   "cell_type": "code",
   "execution_count": 155,
   "id": "4341526b",
   "metadata": {},
   "outputs": [
    {
     "name": "stdout",
     "output_type": "stream",
     "text": [
      "{'user id': 295, 'product id': 295, 'Interaction type': 423, 'Time stamp': 295, '_c4': 3294}\n"
     ]
    },
    {
     "data": {
      "text/plain": [
       "3294"
      ]
     },
     "execution_count": 155,
     "metadata": {},
     "output_type": "execute_result"
    }
   ],
   "source": [
    "# show number of null values in data\n",
    "print(sales_null)\n",
    "\n",
    "# show number of rows in sales_data\n",
    "sales_data.count()"
   ]
  },
  {
   "cell_type": "code",
   "execution_count": 156,
   "id": "7035d6f2",
   "metadata": {},
   "outputs": [
    {
     "name": "stdout",
     "output_type": "stream",
     "text": [
      "+-------+--------------------+----------------+----------------+----+\n",
      "|user id|          product id|Interaction type|      Time stamp| _c4|\n",
      "+-------+--------------------+----------------+----------------+----+\n",
      "|    276|d49b828318fdd2a55...|            null|23/03/2023 10:00|null|\n",
      "|    277|90f3d45ebaa97aabd...|            null|24/03/2023 10:00|null|\n",
      "|    553|693ba00b2a5afe284...|            null| 23/12/2023 8:00|null|\n",
      "|    908|86927a1ecbd562feb...|            null| 12/11/2023 8:00|null|\n",
      "|    909|2efb24558840733ca...|            null| 13/11/2023 8:00|null|\n",
      "+-------+--------------------+----------------+----------------+----+\n",
      "only showing top 5 rows\n",
      "\n"
     ]
    },
    {
     "name": "stderr",
     "output_type": "stream",
     "text": [
      "24/05/23 11:31:33 WARN CSVHeaderChecker: CSV header does not conform to the schema.\n",
      " Header: user id, product id, Interaction type, Time stamp, \n",
      " Schema: user id, product id, Interaction type, Time stamp, _c4\n",
      "Expected: _c4 but found: \n",
      "CSV file: file:///home/ubuntu/iteration4/E-commerce%20sales%20data%202024.csv\n"
     ]
    }
   ],
   "source": [
    "# first 5 rows of interaction type with null values\n",
    "sales_data.filter(\"`Interaction type` is null\").show(5)"
   ]
  },
  {
   "cell_type": "code",
   "execution_count": 157,
   "id": "82f1a8b1",
   "metadata": {},
   "outputs": [
    {
     "data": {
      "text/plain": [
       "295"
      ]
     },
     "execution_count": 157,
     "metadata": {},
     "output_type": "execute_result"
    }
   ],
   "source": [
    "# rows with all null values\n",
    "sales_data.filter(\"`user id` is null AND `product id` is null AND `Interaction type` is null AND `Time stamp` is null\").count()"
   ]
  },
  {
   "cell_type": "code",
   "execution_count": 158,
   "id": "05ce3848",
   "metadata": {},
   "outputs": [
    {
     "name": "stdout",
     "output_type": "stream",
     "text": [
      "{'Uniqe Id': 0, 'Product Name': 0, 'Brand Name': 9567, 'Asin': 9893, 'Category': 1213, 'Upc Ean Code': 9646, 'List Price': 9921, 'Selling Price': 518, 'Quantity': 9669, 'Model Number': 2066, 'About Product': 372, 'Product Specification': 1493, 'Technical Details': 830, 'Shipping Weight': 1091, 'Product Dimensions': 7846, 'Image': 542, 'Variants': 6583, 'Sku': 8742, 'Product Url': 923, 'Stock': 8731, 'Product Details': 9081, 'Dimensions': 9310, 'Color': 9465, 'Ingredients': 9559, 'Direction To Use': 9643, 'Is Amazon Seller': 1583, 'Size Quantity Variant': 9233, 'Product Description': 9456}\n"
     ]
    },
    {
     "data": {
      "text/plain": [
       "10002"
      ]
     },
     "execution_count": 158,
     "metadata": {},
     "output_type": "execute_result"
    }
   ],
   "source": [
    "# show number of null values in data\n",
    "print(product_null)\n",
    "\n",
    "# show number of rows in product_details\n",
    "product_details.count()"
   ]
  },
  {
   "cell_type": "code",
   "execution_count": 159,
   "id": "5a1caaf5",
   "metadata": {},
   "outputs": [
    {
     "name": "stdout",
     "output_type": "stream",
     "text": [
      "+-------------+\n",
      "|Selling Price|\n",
      "+-------------+\n",
      "|      $237.68|\n",
      "|       $99.95|\n",
      "|       $34.99|\n",
      "|       $28.91|\n",
      "|       $17.49|\n",
      "|       $18.66|\n",
      "|       $29.12|\n",
      "|       $97.68|\n",
      "|         null|\n",
      "|       $38.49|\n",
      "|       $18.16|\n",
      "|       $84.61|\n",
      "|       $33.92|\n",
      "|       $14.99|\n",
      "|        $4.99|\n",
      "|       $34.39|\n",
      "|       $12.88|\n",
      "|      $117.26|\n",
      "|        $9.39|\n",
      "|       $17.85|\n",
      "+-------------+\n",
      "only showing top 20 rows\n",
      "\n"
     ]
    }
   ],
   "source": [
    "product_details.select('Selling Price').show()"
   ]
  },
  {
   "cell_type": "markdown",
   "id": "ded5fa40",
   "metadata": {},
   "source": [
    "## 3 Data Preparation"
   ]
  },
  {
   "cell_type": "markdown",
   "id": "1ca89945",
   "metadata": {},
   "source": [
    "### 3.2 Clean Data"
   ]
  },
  {
   "cell_type": "code",
   "execution_count": 160,
   "id": "cc98ade0",
   "metadata": {},
   "outputs": [
    {
     "name": "stdout",
     "output_type": "stream",
     "text": [
      "{'user id': 0, 'product id': 0, 'Interaction type': 0, 'Time stamp': 0}\n",
      "(2871, 4)\n"
     ]
    }
   ],
   "source": [
    "# select first 4 columns\n",
    "sales_data = sales_data.drop('_c4')\n",
    "\n",
    "# remove rows with any null value\n",
    "sales_data = sales_data.dropna()\n",
    "\n",
    "# check if any null value exists\n",
    "print({col:sales_data.filter(sales_data[col].isNull()).count() for col in sales_data.columns})\n",
    "\n",
    "# number of rows and number of columns\n",
    "sales_shape = (sales_data.count(), len(sales_data.columns))\n",
    "print(sales_shape)"
   ]
  },
  {
   "cell_type": "code",
   "execution_count": 161,
   "id": "20b9fe76",
   "metadata": {},
   "outputs": [
    {
     "name": "stdout",
     "output_type": "stream",
     "text": [
      "{'Uniqe id': 0, 'Category': 0, 'Is Amazon Seller': 0, 'Selling Price': 0}\n",
      "(7567, 4)\n"
     ]
    }
   ],
   "source": [
    "# select columns\n",
    "product_details = product_details.select('Uniqe id', 'Category', 'Is Amazon Seller', 'Selling Price')\n",
    "\n",
    "# remove rows with any null value\n",
    "product_details = product_details.dropna()\n",
    "\n",
    "# check if any null value exists\n",
    "print({col:product_details.filter(product_details[col].isNull()).count() for col in product_details.columns})\n",
    "\n",
    "# number of rows and number of columns\n",
    "product_shape = (product_details.count(), len(product_details.columns))\n",
    "print(product_shape)"
   ]
  },
  {
   "cell_type": "code",
   "execution_count": 162,
   "id": "7f37c844",
   "metadata": {},
   "outputs": [
    {
     "name": "stdout",
     "output_type": "stream",
     "text": [
      "+---------------+\n",
      "|  Selling Price|\n",
      "+---------------+\n",
      "|          $9.51|\n",
      "|         $45.36|\n",
      "|         $34.91|\n",
      "|          $1.41|\n",
      "|         $13.37|\n",
      "|        $146.87|\n",
      "|         $36.12|\n",
      "|         $20.08|\n",
      "|         $23.93|\n",
      "|         $32.86|\n",
      "|$20.93 - $30.93|\n",
      "|         $19.41|\n",
      "|          $4.30|\n",
      "|          $9.97|\n",
      "|          $5.52|\n",
      "|          $9.52|\n",
      "|         $19.03|\n",
      "|         $50.88|\n",
      "|         $19.28|\n",
      "|         $59.97|\n",
      "+---------------+\n",
      "only showing top 20 rows\n",
      "\n"
     ]
    }
   ],
   "source": [
    "# selling price values\n",
    "product_details.select('Selling Price').distinct().show()"
   ]
  },
  {
   "cell_type": "code",
   "execution_count": 163,
   "id": "4cf5bf1d",
   "metadata": {},
   "outputs": [
    {
     "name": "stdout",
     "output_type": "stream",
     "text": [
      "+-------------+\n",
      "|Selling Price|\n",
      "+-------------+\n",
      "|        19.98|\n",
      "|        17.95|\n",
      "|         14.9|\n",
      "|         15.5|\n",
      "|        10.65|\n",
      "|        40.11|\n",
      "|         49.8|\n",
      "|         8.51|\n",
      "|        76.98|\n",
      "|        40.53|\n",
      "|         6.96|\n",
      "|        24.42|\n",
      "|        19.27|\n",
      "|         5.86|\n",
      "|        16.54|\n",
      "|        20.49|\n",
      "|        16.75|\n",
      "|         5.05|\n",
      "|        11.53|\n",
      "|         8.73|\n",
      "+-------------+\n",
      "only showing top 20 rows\n",
      "\n",
      "root\n",
      " |-- Uniqe id: string (nullable = true)\n",
      " |-- Category: string (nullable = true)\n",
      " |-- Is Amazon Seller: string (nullable = true)\n",
      " |-- Selling Price: double (nullable = true)\n",
      "\n"
     ]
    }
   ],
   "source": [
    "# remove rows contains selling price that defines a range\n",
    "product_details = product_details.filter(length(col(\"Selling Price\")) <= 10)\n",
    "\n",
    "# remove dollar signs\n",
    "product_details = product_details.withColumn(\"Selling Price\", regexp_replace(col(\"Selling Price\"), \"\\\\$\", \"\")\\\n",
    "                                             .cast(DoubleType()))\n",
    "\n",
    "# selling price values and type\n",
    "product_details.select('Selling Price').distinct().show()\n",
    "product_details.printSchema()"
   ]
  },
  {
   "cell_type": "code",
   "execution_count": 164,
   "id": "3ae26c7f",
   "metadata": {},
   "outputs": [
    {
     "name": "stdout",
     "output_type": "stream",
     "text": [
      "{'Customer ID': 0, 'Age': 0, 'Gender': 0, 'Item Purchased': 0, 'Category': 0, 'Season': 0, 'Subscription Status': 0, 'Discount Applied': 0}\n",
      "(3900, 8)\n"
     ]
    }
   ],
   "source": [
    "# select columns\n",
    "customer_details = customer_details.select('Customer ID', 'Age', 'Gender', 'Item Purchased', 'Category', \\\n",
    "                                           'Season', 'Subscription Status', 'Discount Applied')\n",
    "\n",
    "# check if any null value exists\n",
    "print({col:customer_details.filter(customer_details[col].isNull()).count() for col in customer_details.columns})\n",
    "\n",
    "# number of rows and number of columns\n",
    "customer_shape = (customer_details.count(), len(customer_details.columns))\n",
    "print(customer_shape)"
   ]
  },
  {
   "cell_type": "markdown",
   "id": "bcd5d38d",
   "metadata": {},
   "source": [
    "### 3.3 Construct Data"
   ]
  },
  {
   "cell_type": "code",
   "execution_count": 186,
   "id": "b3689dfd",
   "metadata": {},
   "outputs": [
    {
     "name": "stdout",
     "output_type": "stream",
     "text": [
      "+-------+--------------------+----------------+-------------------+-----------+\n",
      "|user id|          product id|Interaction type|         Time stamp|day_of_week|\n",
      "+-------+--------------------+----------------+-------------------+-----------+\n",
      "|      1|4c69b61db1fc16e70...|        purchase|2023-10-10 08:00:00|          3|\n",
      "|      2|66d49bbed043f5be2...|            view|2023-10-11 08:00:00|          4|\n",
      "|      3|2c55cae269aebf538...|            like|2023-10-12 08:00:00|          5|\n",
      "|      4|18018b6bc416dab34...|            view|2023-10-13 08:00:00|          6|\n",
      "|      5|e04b990e95bf73bbe...|            like|2023-10-14 08:00:00|          7|\n",
      "|      6|f8c32a45e507a1779...|            like|2023-10-15 08:00:00|          1|\n",
      "|      7|40d3cd16b41970ae6...|        purchase|2023-10-16 08:00:00|          2|\n",
      "|      8|bc178f33a04dbccef...|            view|2023-10-17 08:00:00|          3|\n",
      "|      9|cc2083338a16c3fe2...|            like|2023-10-18 08:00:00|          4|\n",
      "|     10|69828c5570dcdbd16...|        purchase|2023-10-19 08:00:00|          5|\n",
      "|     11|7b0746d8afc8462ba...|        purchase|2023-10-20 08:00:00|          6|\n",
      "|     12|c5f4c94653a3befd8...|            view|2023-10-21 08:00:00|          7|\n",
      "|     13|615ba903c134f439e...|            like|2023-10-22 08:00:00|          1|\n",
      "|     14|82c86a4d24dce5e14...|            view|2023-10-23 08:00:00|          2|\n",
      "|     15|1ecccb43e0f5c0162...|            like|2023-10-24 08:00:00|          3|\n",
      "|     16|d1ac6d805fcdf75f9...|            like|2023-10-25 08:00:00|          4|\n",
      "|     17|d82015ffbf4cd54b0...|        purchase|2023-10-26 08:00:00|          5|\n",
      "|     18|39f1b8a2129315da0...|            view|2023-10-27 08:00:00|          6|\n",
      "|     19|4af0833f20a842178...|            like|2023-10-28 08:00:00|          7|\n",
      "|     20|fd71391871b94ead8...|        purchase|2023-10-29 08:00:00|          1|\n",
      "+-------+--------------------+----------------+-------------------+-----------+\n",
      "only showing top 20 rows\n",
      "\n",
      "root\n",
      " |-- user id: integer (nullable = true)\n",
      " |-- product id: string (nullable = true)\n",
      " |-- Interaction type: string (nullable = true)\n",
      " |-- Time stamp: timestamp (nullable = true)\n",
      " |-- day_of_week: integer (nullable = true)\n",
      "\n"
     ]
    }
   ],
   "source": [
    "# format time stamp to dd/mm/yyyy hh:mm\n",
    "def format_timestamp(ts):\n",
    "    parts = ts.split(\" \")\n",
    "    if len(parts) == 2 and len(parts[1]) != 5:\n",
    "        return f\"{parts[0]} 0{parts[1]}\"\n",
    "    return ts\n",
    "\n",
    "format_timestamp_udf = udf(format_timestamp, StringType())\n",
    "\n",
    "# Apply the UDF to the timestamp column\n",
    "sales_data = sales_data.withColumn(\"Time stamp\", format_timestamp_udf(col(\"Time stamp\")))\n",
    "\n",
    "# Convert time stamp to a date type\n",
    "sales_data = sales_data.withColumn(\"Time stamp\", to_timestamp(col(\"Time stamp\"), \"dd/MM/yyyy HH:mm\"))\n",
    "\n",
    "# Create day of week variable from time stamp\n",
    "sales_data = sales_data.withColumn(\"day_of_week\", dayofweek(col(\"Time stamp\")))\n",
    "\n",
    "# Show the updated DataFrame\n",
    "sales_data.show()\n",
    "\n",
    "# Check the schema to ensure the new column is added\n",
    "sales_data.printSchema()"
   ]
  },
  {
   "cell_type": "code",
   "execution_count": 193,
   "id": "f7eb411b",
   "metadata": {},
   "outputs": [
    {
     "name": "stdout",
     "output_type": "stream",
     "text": [
      "+-----------+---+------+--------------+-----------+------+-------------------+----------------+-------------------+\n",
      "|Customer ID|Age|Gender|Item Purchased|   Category|Season|Subscription Status|Discount Applied|    season_category|\n",
      "+-----------+---+------+--------------+-----------+------+-------------------+----------------+-------------------+\n",
      "|          1| 55|  Male|        Blouse|   Clothing|Winter|                Yes|             Yes|   Winter  Clothing|\n",
      "|          2| 19|  Male|       Sweater|   Clothing|Winter|                Yes|             Yes|   Winter  Clothing|\n",
      "|          3| 50|  Male|         Jeans|   Clothing|Spring|                Yes|             Yes|   Spring  Clothing|\n",
      "|          4| 21|  Male|       Sandals|   Footwear|Spring|                Yes|             Yes|   Spring  Footwear|\n",
      "|          5| 45|  Male|        Blouse|   Clothing|Spring|                Yes|             Yes|   Spring  Clothing|\n",
      "|          6| 46|  Male|      Sneakers|   Footwear|Summer|                Yes|             Yes|   Summer  Footwear|\n",
      "|          7| 63|  Male|         Shirt|   Clothing|  Fall|                Yes|             Yes|     Fall  Clothing|\n",
      "|          8| 27|  Male|        Shorts|   Clothing|Winter|                Yes|             Yes|   Winter  Clothing|\n",
      "|          9| 26|  Male|          Coat|  Outerwear|Summer|                Yes|             Yes|  Summer  Outerwear|\n",
      "|         10| 57|  Male|       Handbag|Accessories|Spring|                Yes|             Yes|Spring  Accessories|\n",
      "|         11| 53|  Male|         Shoes|   Footwear|  Fall|                Yes|             Yes|     Fall  Footwear|\n",
      "|         12| 30|  Male|        Shorts|   Clothing|Winter|                Yes|             Yes|   Winter  Clothing|\n",
      "|         13| 61|  Male|          Coat|  Outerwear|Winter|                Yes|             Yes|  Winter  Outerwear|\n",
      "|         14| 65|  Male|         Dress|   Clothing|Spring|                Yes|             Yes|   Spring  Clothing|\n",
      "|         15| 64|  Male|          Coat|  Outerwear|Winter|                Yes|             Yes|  Winter  Outerwear|\n",
      "|         16| 64|  Male|         Skirt|   Clothing|Winter|                Yes|             Yes|   Winter  Clothing|\n",
      "|         17| 25|  Male|    Sunglasses|Accessories|Spring|                Yes|             Yes|Spring  Accessories|\n",
      "|         18| 53|  Male|         Dress|   Clothing|Winter|                Yes|             Yes|   Winter  Clothing|\n",
      "|         19| 52|  Male|       Sweater|   Clothing|Summer|                Yes|             Yes|   Summer  Clothing|\n",
      "|         20| 66|  Male|         Pants|   Clothing|Summer|                Yes|             Yes|   Summer  Clothing|\n",
      "+-----------+---+------+--------------+-----------+------+-------------------+----------------+-------------------+\n",
      "only showing top 20 rows\n",
      "\n"
     ]
    }
   ],
   "source": [
    "# create season category variable by combining values from season and category\n",
    "customer_details = customer_details.withColumn(\"season_category\", concat(col(\"Season\"), lit(\"  \"), col(\"Category\")))\n",
    "\n",
    "customer_details.show()"
   ]
  },
  {
   "cell_type": "code",
   "execution_count": 194,
   "id": "efcf108e",
   "metadata": {},
   "outputs": [
    {
     "data": {
      "image/png": "[encoded data removed]",
      "text/plain": [
       "<Figure size 432x288 with 1 Axes>"
      ]
     },
     "metadata": {
      "needs_background": "light"
     },
     "output_type": "display_data"
    },
    {
     "name": "stdout",
     "output_type": "stream",
     "text": [
      "+-------+-----------------+\n",
      "|summary|    Selling Price|\n",
      "+-------+-----------------+\n",
      "|  count|             7224|\n",
      "|   mean|34.99135520487302|\n",
      "| stddev|69.01885570629251|\n",
      "|    min|             0.51|\n",
      "|    25%|             10.0|\n",
      "|    50%|            16.99|\n",
      "|    75%|            29.99|\n",
      "|    max|           945.99|\n",
      "+-------+-----------------+\n",
      "\n",
      "+--------------------+--------------------+----------------+-------------+-----------+\n",
      "|            Uniqe id|            Category|Is Amazon Seller|Selling Price|Price range|\n",
      "+--------------------+--------------------+----------------+-------------+-----------+\n",
      "|4c69b61db1fc16e70...|Sports & Outdoors...|               Y|       237.68|       High|\n",
      "|66d49bbed043f5be2...|Toys & Games | Le...|               Y|        99.95|       High|\n",
      "|2c55cae269aebf538...|Toys & Games | Ar...|               Y|        34.99|       High|\n",
      "|18018b6bc416dab34...|Toys & Games | Ho...|               Y|        28.91|   Moderate|\n",
      "|e04b990e95bf73bbe...|Toys & Games | Pu...|               Y|        17.49|   Moderate|\n",
      "|40d3cd16b41970ae6...|Clothing, Shoes &...|               Y|        29.12|   Moderate|\n",
      "|bc178f33a04dbccef...|Toys & Games | Ar...|               Y|        97.68|       High|\n",
      "|7b0746d8afc8462ba...|Toys & Games | Ba...|               Y|        18.16|   Moderate|\n",
      "|615ba903c134f439e...|Baby Products | N...|               Y|        33.92|       High|\n",
      "|82c86a4d24dce5e14...|Toys & Games | Bu...|               Y|        14.99|   Moderate|\n",
      "|1ecccb43e0f5c0162...|Toys & Games | Ar...|               Y|         4.99|        Low|\n",
      "|d1ac6d805fcdf75f9...|Toys & Games | Ba...|               Y|        34.39|       High|\n",
      "|39f1b8a2129315da0...|Home & Kitchen | ...|               Y|       117.26|       High|\n",
      "|4af0833f20a842178...|Toys & Games | No...|               Y|         9.39|        Low|\n",
      "|fd71391871b94ead8...|Toys & Games | Ba...|               Y|        17.85|   Moderate|\n",
      "|a84f14dd0114d78f1...|Toys & Games | Sp...|               Y|         27.5|   Moderate|\n",
      "|f5b9392a03cfae881...|Toys & Games | Ho...|               Y|        10.99|   Moderate|\n",
      "|89a993dbc079cc3fb...|Toys & Games | Bu...|               Y|       159.99|       High|\n",
      "|84fb43b933850dc05...|Toys & Games | Pa...|               Y|        12.63|   Moderate|\n",
      "|af983053a35fa2a84...|Toys & Games | Ba...|               Y|        11.88|   Moderate|\n",
      "+--------------------+--------------------+----------------+-------------+-----------+\n",
      "only showing top 20 rows\n",
      "\n"
     ]
    }
   ],
   "source": [
    "# histogram of selling price\n",
    "sp_pd = product_details.select('Selling Price').toPandas()\n",
    "plt.hist(data=sp_pd, x=\"Selling Price\", edgecolor = \"black\", bins=50)\n",
    "plt.xlabel(\"Selling Price\")\n",
    "plt.ylabel(\"Count\")\n",
    "plt.show()\n",
    "\n",
    "# selling price summary statistics\n",
    "product_details.select('Selling Price').summary().show()\n",
    "\n",
    "# create categories for selling price with low, moderate and high\n",
    "product_details = product_details.withColumn(\"Price range\", \n",
    "    when(col(\"Selling Price\") < 10, \"Low\")\n",
    "    .when((col(\"Selling Price\") >= 10) & (col(\"Selling Price\") < 30), \"Moderate\")\n",
    "    .otherwise(\"High\")\n",
    ")\n",
    "\n",
    "product_details.show()"
   ]
  },
  {
   "cell_type": "markdown",
   "id": "c566e5f5",
   "metadata": {},
   "source": [
    "### 3.4 Integrate Various Data Sources"
   ]
  },
  {
   "cell_type": "code",
   "execution_count": 195,
   "id": "8e928b9a",
   "metadata": {},
   "outputs": [
    {
     "name": "stdout",
     "output_type": "stream",
     "text": [
      "root\n",
      " |-- Customer ID: integer (nullable = true)\n",
      " |-- Age: integer (nullable = true)\n",
      " |-- Gender: string (nullable = true)\n",
      " |-- Item Purchased: string (nullable = true)\n",
      " |-- Category: string (nullable = true)\n",
      " |-- Season: string (nullable = true)\n",
      " |-- Subscription Status: string (nullable = true)\n",
      " |-- Discount Applied: string (nullable = true)\n",
      " |-- season_category: string (nullable = true)\n",
      " |-- product id: string (nullable = true)\n",
      " |-- Interaction type: string (nullable = true)\n",
      " |-- Time stamp: timestamp (nullable = true)\n",
      " |-- day_of_week: integer (nullable = true)\n",
      " |-- Category: string (nullable = true)\n",
      " |-- Is Amazon Seller: string (nullable = true)\n",
      " |-- Selling Price: double (nullable = true)\n",
      " |-- Price range: string (nullable = false)\n",
      "\n"
     ]
    }
   ],
   "source": [
    "# Merge customer details and sales data\n",
    "merged_df = customer_details.join(sales_data, customer_details[\"Customer ID\"] == sales_data[\"user id\"], how='inner')\n",
    "\n",
    "# merge product details to merged_df\n",
    "merged_df = merged_df.join(product_details, product_details[\"Uniqe id\"] == merged_df[\"product id\"], how='inner')\n",
    "\n",
    "# drop duplicate keys\n",
    "merged_df = merged_df.drop('Uniqe id', 'user id')"
   ]
  },
  {
   "cell_type": "markdown",
   "id": "b16a6327",
   "metadata": {},
   "source": [
    "### 3.5 Format Data"
   ]
  },
  {
   "cell_type": "code",
   "execution_count": null,
   "id": "3b94e5b5",
   "metadata": {},
   "outputs": [],
   "source": [
    "# attributes in merged_df\n",
    "merged_df.printSchema()"
   ]
  },
  {
   "cell_type": "markdown",
   "id": "d9cf6cfc",
   "metadata": {},
   "source": [
    "## 4 Data Transformation"
   ]
  },
  {
   "cell_type": "markdown",
   "id": "fedb7bf9",
   "metadata": {},
   "source": [
    "### 4.1 Reduce Data"
   ]
  },
  {
   "cell_type": "code",
   "execution_count": null,
   "id": "f3d321b7",
   "metadata": {},
   "outputs": [],
   "source": []
  },
  {
   "cell_type": "markdown",
   "id": "19162b40",
   "metadata": {},
   "source": [
    "### 4.2 Project Data"
   ]
  },
  {
   "cell_type": "code",
   "execution_count": null,
   "id": "6249333d",
   "metadata": {},
   "outputs": [],
   "source": []
  },
  {
   "cell_type": "markdown",
   "id": "d317a9de",
   "metadata": {},
   "source": [
    "## 6 Data Mining Algorithm Selection"
   ]
  },
  {
   "cell_type": "markdown",
   "id": "4334dfb7",
   "metadata": {},
   "source": [
    "### 6.3 Build/Select Appropriate Model and Choose Relevant Parameters"
   ]
  },
  {
   "cell_type": "code",
   "execution_count": null,
   "id": "2e1da8fa",
   "metadata": {},
   "outputs": [],
   "source": []
  },
  {
   "cell_type": "markdown",
   "id": "6ec07ac1",
   "metadata": {},
   "source": [
    "## 7 Data Mining"
   ]
  },
  {
   "cell_type": "markdown",
   "id": "c0a91685",
   "metadata": {},
   "source": [
    "### 7.1 Create and Justify Test Designs"
   ]
  },
  {
   "cell_type": "code",
   "execution_count": null,
   "id": "b5e3da48",
   "metadata": {},
   "outputs": [],
   "source": []
  },
  {
   "cell_type": "markdown",
   "id": "07be9d69",
   "metadata": {},
   "source": [
    "### 7.2 Construct Data Mining"
   ]
  },
  {
   "cell_type": "code",
   "execution_count": null,
   "id": "858340dc",
   "metadata": {},
   "outputs": [],
   "source": []
  },
  {
   "cell_type": "markdown",
   "id": "90db3781",
   "metadata": {},
   "source": [
    "### 7.3 Search for Patterns"
   ]
  },
  {
   "cell_type": "code",
   "execution_count": null,
   "id": "17cb0b7e",
   "metadata": {},
   "outputs": [],
   "source": []
  },
  {
   "cell_type": "markdown",
   "id": "fda29dbe",
   "metadata": {},
   "source": [
    "## 8 Interpretation"
   ]
  },
  {
   "cell_type": "code",
   "execution_count": null,
   "id": "b0c02cd3",
   "metadata": {},
   "outputs": [],
   "source": []
  }
 ],
 "metadata": {
  "kernelspec": {
   "display_name": "Python 3 (ipykernel)",
   "language": "python",
   "name": "python3"
  },
  "language_info": {
   "codemirror_mode": {
    "name": "ipython",
    "version": 3
   },
   "file_extension": ".py",
   "mimetype": "text/x-python",
   "name": "python",
   "nbconvert_exporter": "python",
   "pygments_lexer": "ipython3",
   "version": "3.10.12"
  }
 },
 "nbformat": 4,
 "nbformat_minor": 5
}
